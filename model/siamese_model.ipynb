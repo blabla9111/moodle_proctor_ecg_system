{
 "cells": [
  {
   "cell_type": "markdown",
   "metadata": {},
   "source": [
    "# Реализация сиамской нейронной сети"
   ]
  },
  {
   "cell_type": "markdown",
   "metadata": {},
   "source": [
    "### импорт необходимых библиотек"
   ]
  },
  {
   "cell_type": "code",
   "execution_count": 2,
   "metadata": {},
   "outputs": [
    {
     "name": "stdout",
     "output_type": "stream",
     "text": [
      "Note: you may need to restart the kernel to use updated packages.\n"
     ]
    }
   ],
   "source": [
    "pip freeze > requirements.txt"
   ]
  },
  {
   "cell_type": "code",
   "execution_count": null,
   "metadata": {},
   "outputs": [],
   "source": [
    "pip install neurokit2"
   ]
  },
  {
   "cell_type": "code",
   "execution_count": null,
   "metadata": {},
   "outputs": [],
   "source": [
    "pip install wfdb"
   ]
  },
  {
   "cell_type": "code",
   "execution_count": null,
   "metadata": {},
   "outputs": [],
   "source": [
    "pip install keras==2.11.0"
   ]
  },
  {
   "cell_type": "code",
   "execution_count": null,
   "metadata": {},
   "outputs": [],
   "source": [
    "pip install tensorflow==2.11.0"
   ]
  },
  {
   "cell_type": "code",
   "execution_count": 3,
   "metadata": {},
   "outputs": [],
   "source": [
    "import wfdb\n",
    "import pandas as pd\n",
    "from sklearn import preprocessing\n",
    "import numpy as np\n",
    "\n",
    "import keras.backend as K\n",
    "import keras.backend as K\n",
    "from keras.models import Sequential, Model\n",
    "from keras.layers import Input, Dense, Conv1D, GlobalMaxPooling1D\n",
    "from keras.optimizers import RMSprop\n",
    "import matplotlib.pyplot as plt"
   ]
  },
  {
   "cell_type": "markdown",
   "metadata": {},
   "source": [
    "### загрузка датасета"
   ]
  },
  {
   "cell_type": "code",
   "execution_count": 4,
   "metadata": {},
   "outputs": [
    {
     "name": "stdout",
     "output_type": "stream",
     "text": [
      "21799\n"
     ]
    }
   ],
   "source": [
    "import os\n",
    "\n",
    "X = []\n",
    "\n",
    "for root, dirs, files in os.walk('./ptb-xl-a-large-publicly-available-electrocardiography-dataset-1.0.3/records100/'):\n",
    "    for file in files:\n",
    "        if file.endswith('.dat'):\n",
    "            file_path = root+\"/\"+file[:-4]\n",
    "            try:\n",
    "                data = wfdb.rdsamp(file_path)\n",
    "                data = data[0][:,7]\n",
    "                X.append(data)\n",
    "            except Exception:\n",
    "                    print(\"Can't find file \"+file_path)\n",
    "\n",
    "print(len(X))"
   ]
  },
  {
   "cell_type": "markdown",
   "metadata": {},
   "source": [
    "### подготовка данных"
   ]
  },
  {
   "cell_type": "code",
   "execution_count": 5,
   "metadata": {},
   "outputs": [],
   "source": [
    "df = pd.DataFrame(X)\n",
    "df_1 = pd.DataFrame(preprocessing.normalize(df))\n",
    "center_function = lambda x: x - x.mean()\n",
    "df_1 = center_function(df_1)"
   ]
  },
  {
   "cell_type": "markdown",
   "metadata": {},
   "source": [
    "### перемешиваю записи"
   ]
  },
  {
   "cell_type": "code",
   "execution_count": 6,
   "metadata": {},
   "outputs": [],
   "source": [
    "from sklearn.utils import shuffle\n",
    "df_2 = shuffle(df_1,random_state=20)"
   ]
  },
  {
   "cell_type": "markdown",
   "metadata": {},
   "source": [
    "### создание пары ЭКГ"
   ]
  },
  {
   "cell_type": "code",
   "execution_count": 7,
   "metadata": {},
   "outputs": [],
   "source": [
    "def make_pair(data):\n",
    "  X = []\n",
    "  Y = []\n",
    "  for i in range(len(data)-1):\n",
    "    row_main = data.iloc[i][:500].values\n",
    "    row_same = data.iloc[i][500:1000].values\n",
    "    row_neg = data.iloc[i+1][:500].values\n",
    "    X.append([row_main,row_same])\n",
    "    X.append([row_main,row_neg])\n",
    "    Y.append(0)\n",
    "    Y.append(1)\n",
    "\n",
    "  return np.array(X), np.array(Y)\n",
    "\n",
    "X, Y = make_pair(df_2)"
   ]
  },
  {
   "cell_type": "markdown",
   "metadata": {},
   "source": [
    "### разделение выботки на обучающую и тестовую"
   ]
  },
  {
   "cell_type": "code",
   "execution_count": 8,
   "metadata": {},
   "outputs": [],
   "source": [
    "from sklearn.model_selection import train_test_split\n",
    "X_train, X_test, y_train, y_test = train_test_split(X, Y, test_size=0.2, random_state=42)"
   ]
  },
  {
   "cell_type": "markdown",
   "metadata": {},
   "source": [
    "### создание нейронной сети"
   ]
  },
  {
   "cell_type": "code",
   "execution_count": 21,
   "metadata": {},
   "outputs": [
    {
     "name": "stdout",
     "output_type": "stream",
     "text": [
      "Model: \"model_1\"\n",
      "__________________________________________________________________________________________________\n",
      " Layer (type)                   Output Shape         Param #     Connected to                     \n",
      "==================================================================================================\n",
      " input_3 (InputLayer)           [(None, 500, 1)]     0           []                               \n",
      "                                                                                                  \n",
      " input_4 (InputLayer)           [(None, 500, 1)]     0           []                               \n",
      "                                                                                                  \n",
      " sequential_1 (Sequential)      (None, 16)           866288      ['input_3[0][0]',                \n",
      "                                                                  'input_4[0][0]']                \n",
      "                                                                                                  \n",
      " lambda_1 (Lambda)              (None, 1)            0           ['sequential_1[0][0]',           \n",
      "                                                                  'sequential_1[1][0]']           \n",
      "                                                                                                  \n",
      "==================================================================================================\n",
      "Total params: 866,288\n",
      "Trainable params: 866,288\n",
      "Non-trainable params: 0\n",
      "__________________________________________________________________________________________________\n"
     ]
    }
   ],
   "source": [
    "def create_base_network(input_shape):\n",
    "    model_cnn = Sequential()\n",
    "    model_cnn.add(Conv1D(512, 5,  padding='valid', activation='relu'))\n",
    "    model_cnn.add(Conv1D(256, 5,  padding='valid', activation='relu'))\n",
    "    model_cnn.add(Conv1D(128, 5,  padding='valid', activation='relu'))\n",
    "    model_cnn.add(Conv1D(64, 5,  padding='valid', activation='relu'))\n",
    "    model_cnn.add(GlobalMaxPooling1D())\n",
    "    model_cnn.add(Dense(units=32, activation='relu', kernel_regularizer='l2'))\n",
    "    model_cnn.add(Dense(16, activation='softmax'))\n",
    "    return model_cnn\n",
    "input_shape = 500\n",
    "base_network = create_base_network(input_shape)\n",
    "\n",
    "input_a = Input(shape=(input_shape, 1))\n",
    "input_b = Input(shape=(input_shape,1 ))\n",
    "\n",
    "processed_a = base_network(input_a)\n",
    "processed_b = base_network(input_b)\n",
    "\n",
    "\n",
    "def euclidean_distance(vects):\n",
    "    v1, v2 = vects\n",
    "    return K.sqrt(K.sum(K.square(v1 -v2), axis=1, keepdims=True))\n",
    "\n",
    "def eucl_dist_output_shape(shapes):\n",
    "    shape1, shape2 = shapes\n",
    "    return (shape1[0], 1)\n",
    "\n",
    "distance = Lambda(function=euclidean_distance, output_shape=eucl_dist_output_shape)([processed_a, processed_b])\n",
    "\n",
    "model = Model(inputs=[input_a, input_b], outputs=distance)\n",
    "\n",
    "\n",
    "model.summary()"
   ]
  },
  {
   "cell_type": "markdown",
   "metadata": {},
   "source": [
    "### обучение нейронной сети"
   ]
  },
  {
   "cell_type": "code",
   "execution_count": 22,
   "metadata": {},
   "outputs": [
    {
     "name": "stdout",
     "output_type": "stream",
     "text": [
      "Epoch 1/12\n",
      "1395/1395 [==============================] - 810s 580ms/step - loss: 0.5097 - accuracy: 0.8595 - val_loss: 0.3330 - val_accuracy: 0.9086\n",
      "Epoch 2/12\n",
      "1395/1395 [==============================] - 807s 578ms/step - loss: 0.3265 - accuracy: 0.9014 - val_loss: 0.3047 - val_accuracy: 0.9099\n",
      "Epoch 3/12\n",
      "1395/1395 [==============================] - 805s 577ms/step - loss: 0.2792 - accuracy: 0.9111 - val_loss: 0.2675 - val_accuracy: 0.9163\n",
      "Epoch 4/12\n",
      "1395/1395 [==============================] - 813s 583ms/step - loss: 0.2736 - accuracy: 0.9087 - val_loss: 0.2698 - val_accuracy: 0.9121\n",
      "Epoch 5/12\n",
      "1395/1395 [==============================] - 805s 577ms/step - loss: 0.2568 - accuracy: 0.9139 - val_loss: 0.2353 - val_accuracy: 0.9223\n",
      "Epoch 6/12\n",
      "1395/1395 [==============================] - 803s 576ms/step - loss: 0.2551 - accuracy: 0.9162 - val_loss: 0.2432 - val_accuracy: 0.9242\n",
      "Epoch 7/12\n",
      "1395/1395 [==============================] - 822s 590ms/step - loss: 0.2443 - accuracy: 0.9192 - val_loss: 0.2739 - val_accuracy: 0.9180\n",
      "Epoch 8/12\n",
      "1395/1395 [==============================] - 865s 620ms/step - loss: 0.2406 - accuracy: 0.9184 - val_loss: 0.2453 - val_accuracy: 0.9180\n",
      "Epoch 9/12\n",
      "1395/1395 [==============================] - 856s 613ms/step - loss: 0.2397 - accuracy: 0.9204 - val_loss: 0.2549 - val_accuracy: 0.9207\n",
      "Epoch 10/12\n",
      "1395/1395 [==============================] - 822s 589ms/step - loss: 0.2393 - accuracy: 0.9196 - val_loss: 0.2428 - val_accuracy: 0.9232\n",
      "Epoch 11/12\n",
      "1395/1395 [==============================] - 840s 602ms/step - loss: 0.2412 - accuracy: 0.9163 - val_loss: 0.2345 - val_accuracy: 0.9191\n",
      "Epoch 12/12\n",
      "1395/1395 [==============================] - 822s 589ms/step - loss: 0.2345 - accuracy: 0.9219 - val_loss: 0.2510 - val_accuracy: 0.9240\n"
     ]
    }
   ],
   "source": [
    "def accuracy(y_true, y_pred):\n",
    "    return K.mean(K.equal(y_true, K.cast(y_pred > 0.4, y_true.dtype)))\n",
    "\n",
    "rmsprop = RMSprop()\n",
    "model.compile(optimizer=rmsprop, loss='binary_crossentropy', metrics=[accuracy])\n",
    "history = model.fit(x=[X_train[:, 0], X_train[:, 1]], y=y_train.astype('float32'), batch_size=20, epochs=12,validation_split=0.2,verbose=1)"
   ]
  },
  {
   "cell_type": "code",
   "execution_count": 23,
   "metadata": {},
   "outputs": [],
   "source": [
    "acc_train = history.history[\"accuracy\"]\n",
    "loss_train = history.history[\"loss\"]\n",
    "acc_val = history.history[\"val_accuracy\"]\n",
    "loss_val = history.history[\"val_loss\"]"
   ]
  },
  {
   "cell_type": "code",
   "execution_count": 24,
   "metadata": {},
   "outputs": [
    {
     "data": {
      "image/png": "[encoded data removed]",
      "text/plain": [
       "<Figure size 640x480 with 1 Axes>"
      ]
     },
     "metadata": {},
     "output_type": "display_data"
    }
   ],
   "source": [
    "plt.plot(acc_train,\n",
    "         label='Доля верных ответов на обучающем наборе')\n",
    "plt.plot(acc_val,\n",
    "         label='Доля верных ответов на валидационном наборе')\n",
    "plt.plot(loss_train,\n",
    "         label='loss_train')\n",
    "plt.plot(loss_val,\n",
    "         label='loss_val')\n",
    "plt.xlabel('Эпоха обучения')\n",
    "# plt.ylabel('Доля верных ответов')\n",
    "plt.legend()\n",
    "plt.show()"
   ]
  },
  {
   "cell_type": "markdown",
   "metadata": {},
   "source": [
    "### проверка на тестовых данных"
   ]
  },
  {
   "cell_type": "code",
   "execution_count": 25,
   "metadata": {},
   "outputs": [
    {
     "name": "stdout",
     "output_type": "stream",
     "text": [
      "273/273 [==============================] - 53s 193ms/step - loss: 0.2301 - accuracy: 0.9235\n"
     ]
    }
   ],
   "source": [
    "score = model.evaluate(x=[X_test[:,0],X_test[:,1]],y=y_test.astype('float32'))"
   ]
  },
  {
   "cell_type": "markdown",
   "metadata": {},
   "source": [
    "### сохранение и загрузка модели"
   ]
  },
  {
   "cell_type": "code",
   "execution_count": 26,
   "metadata": {},
   "outputs": [],
   "source": [
    "#model.save(\"./model.h5\")\n",
    "model.save_weights('weight_v3.h5')"
   ]
  },
  {
   "cell_type": "code",
   "execution_count": 34,
   "metadata": {},
   "outputs": [
    {
     "name": "stdout",
     "output_type": "stream",
     "text": [
      "Model: \"model_1\"\n",
      "__________________________________________________________________________________________________\n",
      " Layer (type)                   Output Shape         Param #     Connected to                     \n",
      "==================================================================================================\n",
      " input_3 (InputLayer)           [(None, 500, 1)]     0           []                               \n",
      "                                                                                                  \n",
      " input_4 (InputLayer)           [(None, 500, 1)]     0           []                               \n",
      "                                                                                                  \n",
      " sequential_1 (Sequential)      (None, 16)           866288      ['input_3[0][0]',                \n",
      "                                                                  'input_4[0][0]']                \n",
      "                                                                                                  \n",
      " lambda_1 (Lambda)              (None, 1)            0           ['sequential_1[0][0]',           \n",
      "                                                                  'sequential_1[1][0]']           \n",
      "                                                                                                  \n",
      "==================================================================================================\n",
      "Total params: 866,288\n",
      "Trainable params: 866,288\n",
      "Non-trainable params: 0\n",
      "__________________________________________________________________________________________________\n"
     ]
    }
   ],
   "source": [
    "# model.load_weights('weight_v2.h5', skip_mismatch=False)\n",
    "model.summary()"
   ]
  },
  {
   "cell_type": "markdown",
   "metadata": {},
   "source": [
    "### метрики качества работы модели"
   ]
  },
  {
   "cell_type": "code",
   "execution_count": 27,
   "metadata": {},
   "outputs": [
    {
     "name": "stdout",
     "output_type": "stream",
     "text": [
      "273/273 [==============================] - 55s 199ms/step\n"
     ]
    }
   ],
   "source": [
    "y_pred = model.predict(x=[X_test[:,0],X_test[:,1]])"
   ]
  },
  {
   "cell_type": "code",
   "execution_count": 30,
   "metadata": {},
   "outputs": [],
   "source": [
    "import sklearn.metrics as metrics\n",
    "from sklearn.metrics import confusion_matrix\n",
    "def quality_metrics(y, y_pred):\n",
    "  c_matrix = confusion_matrix(y, y_pred)\n",
    "  c =0\n",
    "  for i in range(len(y_pred)):\n",
    "    if y_pred[i]==y[i]:\n",
    "      c=c+1\n",
    "  accuracy = c/len(y_pred)\n",
    "  precision = c_matrix[0][0]/(c_matrix[0][0]+c_matrix[0][1])\n",
    "  recall = c_matrix[0][0]/(c_matrix[0][0]+c_matrix[1][0])\n",
    "  F1 = 2*precision*recall/(precision+recall)\n",
    "  print(f'accuracy = {accuracy}\\npresicion = {precision}\\nrecall = {recall}\\nF1 = {F1}\\n')"
   ]
  },
  {
   "cell_type": "code",
   "execution_count": 31,
   "metadata": {},
   "outputs": [],
   "source": [
    "y = []\n",
    "for i in range(len(y_pred)):\n",
    "  tmp = y_pred[i]\n",
    "  if tmp < 0.4:\n",
    "    y.append(0)\n",
    "\n",
    "  else:\n",
    "    y.append(1)"
   ]
  },
  {
   "cell_type": "code",
   "execution_count": 32,
   "metadata": {},
   "outputs": [
    {
     "data": {
      "text/plain": [
       "array([[4202,  108],\n",
       "       [ 560, 3850]], dtype=int64)"
      ]
     },
     "execution_count": 32,
     "metadata": {},
     "output_type": "execute_result"
    }
   ],
   "source": [
    "confusion_matrix(y_test, y)"
   ]
  },
  {
   "cell_type": "code",
   "execution_count": 33,
   "metadata": {},
   "outputs": [
    {
     "name": "stdout",
     "output_type": "stream",
     "text": [
      "accuracy = 0.923394495412844\n",
      "presicion = 0.9749419953596288\n",
      "recall = 0.8824023519529609\n",
      "F1 = 0.9263668430335097\n",
      "\n"
     ]
    }
   ],
   "source": [
    "quality_metrics(y_test, y)"
   ]
  }
 ],
 "metadata": {
  "kernelspec": {
   "display_name": "Python 3",
   "language": "python",
   "name": "python3"
  },
  "language_info": {
   "codemirror_mode": {
    "name": "ipython",
    "version": 3
   },
   "file_extension": ".py",
   "mimetype": "text/x-python",
   "name": "python",
   "nbconvert_exporter": "python",
   "pygments_lexer": "ipython3",
   "version": "3.7.9"
  }
 },
 "nbformat": 4,
 "nbformat_minor": 2
}
